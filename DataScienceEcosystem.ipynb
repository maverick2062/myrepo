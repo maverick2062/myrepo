{
 "cells": [
  {
   "cell_type": "markdown",
   "id": "6edeebea-451c-450f-964f-3fd02dfa4145",
   "metadata": {},
   "source": [
    "# Data Science Tools and Ecosystem"
   ]
  },
  {
   "cell_type": "markdown",
   "id": "3106e171-1a15-4a1d-9894-cb9959f1ceab",
   "metadata": {},
   "source": [
    "### INDRODUCTION\n",
    "#### In this notebook, Data Science Tools and Ecosystem are summarized."
   ]
  },
  {
   "cell_type": "markdown",
   "id": "a2a24d6b-ba3a-47a9-aafa-77840722a974",
   "metadata": {},
   "source": [
    "## Some of the popular languages that Data Scientists use are:"
   ]
  },
  {
   "cell_type": "markdown",
   "id": "fbba3410-93d7-4907-84b9-2adae2eaa313",
   "metadata": {},
   "source": [
    "1. R\n",
    "2. Python\n",
    "3. SQL\n",
    "4. JAVA \n",
    "5. Julia \n",
    "6. Tensorflow"
   ]
  },
  {
   "cell_type": "markdown",
   "id": "f7b1ac06-adba-4db4-9b8b-6ae9b0040a57",
   "metadata": {},
   "source": [
    "## Some of the commonly used libraries used by Data Scientists include:\n",
    "1. Pandas\n",
    "2. Numpy\n",
    "3. sklearn\n",
    "4. matplotlib\n",
    "5. ggplot\n",
    "6. seaborn\n",
    "7. Scipy"
   ]
  },
  {
   "cell_type": "markdown",
   "id": "574039c0-a83c-43eb-b155-35b459ddf29d",
   "metadata": {},
   "source": [
    "## DATA SCIENCE TOOLS TABLE\n",
    "| Data Science Tools |\n",
    "|--------------------|\n",
    "|  RSTUDIO           |\n",
    "|  APACHE SPARK      |\n",
    "|  TENSORFLOW        |"
   ]
  },
  {
   "cell_type": "markdown",
   "id": "2021e74f-f0a6-4fd4-a2c5-f2dea61ee1fa",
   "metadata": {},
   "source": [
    "### Below are a few examples of evaluating arithmetic expressions in Python\n",
    "- a=1, b=2, c=a+b  (ADDITION)\n",
    "- a=5, b=3, c=a-b  (SUBTRACTION)\n",
    "- a=6, b=9, c=a*b  (MULTIPLICATION)\n",
    "- a=18,b=2, c=a/b  (DIVISION)\n",
    "- a=17,b=8, c=a//b (FLOOR DIVISION - returns an integer for  e.g. 5//3 = 1)\n",
    "- a=10,b=5, c=a%b, (MODULUS OPERATOR- returns remainder)\n",
    "- a=7, b=3, c=a**b (EXPONENTIATION) "
   ]
  },
  {
   "cell_type": "code",
   "execution_count": 2,
   "id": "8db9fac7-0b59-4eab-810e-7f177862af40",
   "metadata": {},
   "outputs": [
    {
     "name": "stdout",
     "output_type": "stream",
     "text": [
      "17\n"
     ]
    }
   ],
   "source": [
    "# This a simple arithmetic expression to mutiply then add integers\n",
    "print((3*4)+5)"
   ]
  },
  {
   "cell_type": "code",
   "execution_count": 9,
   "id": "fd65b21f-6368-4dbd-862f-84a141e477b7",
   "metadata": {},
   "outputs": [
    {
     "name": "stdout",
     "output_type": "stream",
     "text": [
      "\n",
      " 200 minutes is 3.3333333333333335 hours\n",
      "\n",
      " 200 mintues is approx. 3 hours\n"
     ]
    }
   ],
   "source": [
    "# This will convert 200 minutes to hours by dividing by 60\n",
    "h=200/60\n",
    "H=200//60\n",
    "print(\"\\n 200 minutes is\",h,\"hours\")\n",
    "print(\"\\n 200 mintues is approx.\", H,\"hours\")"
   ]
  },
  {
   "cell_type": "markdown",
   "id": "6dfc7a44-331c-44af-ac13-b4e3bd200c8d",
   "metadata": {},
   "source": [
    "### **OBJECTIVES:**\n",
    "* List popular languages for Data Science\n",
    "* List popular libraries used by Data Scientists\n",
    "* List some Data Science Tools\n",
    "* How to create a table\n",
    "* Creating Ordered List\n",
    "* Creating an Unordered list\n",
    "* Performing arthematic operations\n",
    "* Inserting diffrent styles of headings"
   ]
  },
  {
   "cell_type": "markdown",
   "id": "1b01f3f7-69a2-43a2-9b26-6114c03042fa",
   "metadata": {},
   "source": [
    "## AUTHOR\n",
    "NIKHIL BOKARIA"
   ]
  },
  {
   "cell_type": "code",
   "execution_count": null,
   "id": "5425f897-dafc-4802-bf6c-8d5bcadd08ae",
   "metadata": {},
   "outputs": [],
   "source": []
  }
 ],
 "metadata": {
  "kernelspec": {
   "display_name": "Python 3 (ipykernel)",
   "language": "python",
   "name": "python3"
  },
  "language_info": {
   "codemirror_mode": {
    "name": "ipython",
    "version": 3
   },
   "file_extension": ".py",
   "mimetype": "text/x-python",
   "name": "python",
   "nbconvert_exporter": "python",
   "pygments_lexer": "ipython3",
   "version": "3.10.7"
  }
 },
 "nbformat": 4,
 "nbformat_minor": 5
}
